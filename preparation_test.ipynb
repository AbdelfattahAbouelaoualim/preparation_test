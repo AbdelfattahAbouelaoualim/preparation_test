{
 "cells": [
  {
   "cell_type": "markdown",
   "id": "bb51c03c",
   "metadata": {},
   "source": [
    "## Préparer la Base de Données SQLite\n",
    "\n",
    "- Télécharger la base de données Chinook :\n",
    "\n",
    "Téléchargez le fichier chinook.db depuis le site officiel : Chinook Database.\n",
    "\n",
    "- Extraire et placer le fichier :\n",
    "\n",
    "Extrayez le fichier chinook.db et placez-le dans le répertoire de votre projet."
   ]
  },
  {
   "cell_type": "code",
   "execution_count": 1,
   "id": "1873e16c",
   "metadata": {},
   "outputs": [
    {
     "name": "stdout",
     "output_type": "stream",
     "text": [
      "   CustomerId  FirstName     LastName  \\\n",
      "0           1       Luís    Gonçalves   \n",
      "1           2     Leonie       Köhler   \n",
      "2           3   François     Tremblay   \n",
      "3           4      Bjørn       Hansen   \n",
      "4           5  František  Wichterlová   \n",
      "\n",
      "                                            Company  \\\n",
      "0  Embraer - Empresa Brasileira de Aeronáutica S.A.   \n",
      "1                                              None   \n",
      "2                                              None   \n",
      "3                                              None   \n",
      "4                                  JetBrains s.r.o.   \n",
      "\n",
      "                           Address                 City State         Country  \\\n",
      "0  Av. Brigadeiro Faria Lima, 2170  São José dos Campos    SP          Brazil   \n",
      "1          Theodor-Heuss-Straße 34            Stuttgart  None         Germany   \n",
      "2                1498 rue Bélanger             Montréal    QC          Canada   \n",
      "3                 Ullevålsveien 14                 Oslo  None          Norway   \n",
      "4                    Klanova 9/506               Prague  None  Czech Republic   \n",
      "\n",
      "  PostalCode               Phone                 Fax  \\\n",
      "0  12227-000  +55 (12) 3923-5555  +55 (12) 3923-5566   \n",
      "1      70174    +49 0711 2842222                None   \n",
      "2    H2G 1A7   +1 (514) 721-4711                None   \n",
      "3       0171     +47 22 44 22 22                None   \n",
      "4      14700    +420 2 4172 5555    +420 2 4172 5555   \n",
      "\n",
      "                      Email  SupportRepId  \n",
      "0      luisg@embraer.com.br             3  \n",
      "1     leonekohler@surfeu.de             5  \n",
      "2       ftremblay@gmail.com             3  \n",
      "3     bjorn.hansen@yahoo.no             4  \n",
      "4  frantisekw@jetbrains.com             4  \n"
     ]
    }
   ],
   "source": [
    "import sqlite3\n",
    "import pandas as pd\n",
    "\n",
    "# Se connecter à la base de données\n",
    "conn = sqlite3.connect('chinook.db')\n",
    "\n",
    "# Exécuter une requête SQL\n",
    "query = \"SELECT * FROM customers LIMIT 5;\"\n",
    "df = pd.read_sql_query(query, conn)\n",
    "\n",
    "# Afficher les résultats\n",
    "print(df)\n",
    "\n",
    "# Fermer la connexion\n",
    "conn.close()"
   ]
  },
  {
   "cell_type": "markdown",
   "id": "c769ffab",
   "metadata": {},
   "source": [
    "## Exercice 1 : \n",
    "    Lister les noms et prénoms des clients résidant au Brésil.\n",
    "\n",
    "*Solution:*"
   ]
  },
  {
   "cell_type": "code",
   "execution_count": 3,
   "id": "de04a4b8",
   "metadata": {},
   "outputs": [
    {
     "name": "stdout",
     "output_type": "stream",
     "text": [
      "   FirstName   LastName\n",
      "0       Luís  Gonçalves\n",
      "1    Eduardo    Martins\n",
      "2  Alexandre      Rocha\n",
      "3    Roberto    Almeida\n",
      "4   Fernanda      Ramos\n"
     ]
    }
   ],
   "source": [
    "# Se connecter à la base de données\n",
    "conn = sqlite3.connect('chinook.db')\n",
    "\n",
    "# Exécuter une requête SQL\n",
    "query = \"\"\"SELECT FirstName, LastName\n",
    "FROM customers\n",
    "WHERE Country = 'Brazil';\"\"\"\n",
    "\n",
    "df = pd.read_sql_query(query, conn)\n",
    "\n",
    "# Afficher les résultats\n",
    "print(df)\n",
    "\n",
    "# Fermer la connexion\n",
    "conn.close()"
   ]
  },
  {
   "cell_type": "markdown",
   "id": "2f627424",
   "metadata": {},
   "source": [
    "## Exercice 2 : \n",
    "    Trouver le nombre total de pistes (tracks) dans chaque genre (genre).\n",
    "\n",
    "*Solution :*"
   ]
  },
  {
   "cell_type": "code",
   "execution_count": 4,
   "id": "42246ab6",
   "metadata": {},
   "outputs": [
    {
     "name": "stdout",
     "output_type": "stream",
     "text": [
      "             GenreName  NumberOfTracks\n",
      "0                 Rock            1297\n",
      "1                Latin             579\n",
      "2                Metal             374\n",
      "3   Alternative & Punk             332\n",
      "4                 Jazz             130\n",
      "5             TV Shows              93\n",
      "6                Blues              81\n",
      "7            Classical              74\n",
      "8                Drama              64\n",
      "9             R&B/Soul              61\n",
      "10              Reggae              58\n",
      "11                 Pop              48\n",
      "12          Soundtrack              43\n",
      "13         Alternative              40\n",
      "14         Hip Hop/Rap              35\n",
      "15   Electronica/Dance              30\n",
      "16               World              28\n",
      "17         Heavy Metal              28\n",
      "18    Sci Fi & Fantasy              26\n",
      "19      Easy Listening              24\n",
      "20              Comedy              17\n",
      "21          Bossa Nova              15\n",
      "22     Science Fiction              13\n",
      "23       Rock And Roll              12\n",
      "24               Opera               1\n"
     ]
    }
   ],
   "source": [
    "# Se connecter à la base de données\n",
    "conn = sqlite3.connect('chinook.db')\n",
    "\n",
    "# Exécuter une requête SQL\n",
    "query = \"\"\"SELECT g.Name AS GenreName, COUNT(t.TrackId) AS NumberOfTracks\n",
    "FROM genres g\n",
    "JOIN tracks t ON g.GenreId = t.GenreId\n",
    "GROUP BY g.Name\n",
    "ORDER BY NumberOfTracks DESC;\"\"\"\n",
    "\n",
    "df = pd.read_sql_query(query, conn)\n",
    "\n",
    "# Afficher les résultats\n",
    "print(df)\n",
    "\n",
    "# Fermer la connexion\n",
    "conn.close()"
   ]
  },
  {
   "cell_type": "markdown",
   "id": "ae286649",
   "metadata": {},
   "source": [
    "## Exercice 3 : \n",
    "    Récupérer les titres des albums et les noms des artistes correspondants.\n",
    "\n",
    "*Solution :*"
   ]
  },
  {
   "cell_type": "code",
   "execution_count": 5,
   "id": "24240292",
   "metadata": {},
   "outputs": [
    {
     "name": "stdout",
     "output_type": "stream",
     "text": [
      "                                AlbumTitle  \\\n",
      "0    For Those About To Rock We Salute You   \n",
      "1                        Let There Be Rock   \n",
      "2            A Copland Celebration, Vol. I   \n",
      "3                                   Worlds   \n",
      "4        The World of Classical Favourites   \n",
      "..                                     ...   \n",
      "342                     Vinicius De Moraes   \n",
      "343              Bach: Goldberg Variations   \n",
      "344       Bartok: Violin & Viola Concertos   \n",
      "345                 Bach: The Cello Suites   \n",
      "346                       Ao Vivo [IMPORT]   \n",
      "\n",
      "                                            ArtistName  \n",
      "0                                                AC/DC  \n",
      "1                                                AC/DC  \n",
      "2            Aaron Copland & London Symphony Orchestra  \n",
      "3                                       Aaron Goldberg  \n",
      "4    Academy of St. Martin in the Fields & Sir Nevi...  \n",
      "..                                                 ...  \n",
      "342                                 Vinícius De Moraes  \n",
      "343                                     Wilhelm Kempff  \n",
      "344                                     Yehudi Menuhin  \n",
      "345                                           Yo-Yo Ma  \n",
      "346                                     Zeca Pagodinho  \n",
      "\n",
      "[347 rows x 2 columns]\n"
     ]
    }
   ],
   "source": [
    "# Se connecter à la base de données\n",
    "conn = sqlite3.connect('chinook.db')\n",
    "\n",
    "# Exécuter une requête SQL\n",
    "query = \"\"\"SELECT al.Title AS AlbumTitle, ar.Name AS ArtistName\n",
    "FROM albums al\n",
    "JOIN artists ar ON al.ArtistId = ar.ArtistId\n",
    "ORDER BY ArtistName, AlbumTitle;\"\"\"\n",
    "\n",
    "df = pd.read_sql_query(query, conn)\n",
    "\n",
    "# Afficher les résultats\n",
    "print(df)\n",
    "\n",
    "# Fermer la connexion\n",
    "conn.close()"
   ]
  },
  {
   "cell_type": "markdown",
   "id": "31b75114",
   "metadata": {},
   "source": [
    "## Exercice 4 : \n",
    "    Trouver les employés qui ne sont pas des responsables (c'est-à-dire, personne ne leur reporte).\n",
    "\n",
    "*Solution :*"
   ]
  },
  {
   "cell_type": "code",
   "execution_count": 7,
   "id": "a5eb10f1",
   "metadata": {},
   "outputs": [
    {
     "name": "stdout",
     "output_type": "stream",
     "text": [
      "   EmployeeId FirstName  LastName\n",
      "0           3      Jane   Peacock\n",
      "1           4  Margaret      Park\n",
      "2           5     Steve   Johnson\n",
      "3           7    Robert      King\n",
      "4           8     Laura  Callahan\n"
     ]
    }
   ],
   "source": [
    "# Se connecter à la base de données\n",
    "conn = sqlite3.connect('chinook.db')\n",
    "\n",
    "# Exécuter une requête SQL\n",
    "query = \"\"\"SELECT EmployeeId, FirstName, LastName\n",
    "FROM employees\n",
    "WHERE EmployeeId NOT IN (SELECT DISTINCT ReportsTo FROM employees WHERE ReportsTo IS NOT NULL);\"\"\"\n",
    "\n",
    "df = pd.read_sql_query(query, conn)\n",
    "\n",
    "# Afficher les résultats\n",
    "print(df)\n",
    "\n",
    "# Fermer la connexion\n",
    "conn.close()"
   ]
  },
  {
   "cell_type": "markdown",
   "id": "483ce833",
   "metadata": {},
   "source": [
    "## Exercice 5 : \n",
    "    Lister les playlists contenant plus de 15 pistes.\n",
    "\n",
    "*Solution :*"
   ]
  },
  {
   "cell_type": "code",
   "execution_count": 8,
   "id": "6f2c85f0",
   "metadata": {},
   "outputs": [
    {
     "name": "stdout",
     "output_type": "stream",
     "text": [
      "    PlaylistId                        Name  NumberOfTracks\n",
      "0            1                       Music            3290\n",
      "1            8                       Music            3290\n",
      "2            5                  90’s Music            1477\n",
      "3            3                    TV Shows             213\n",
      "4           10                    TV Shows             213\n",
      "5           12                   Classical              75\n",
      "6           11             Brazilian Music              39\n",
      "7           17         Heavy Metal Classic              26\n",
      "8           13   Classical 101 - Deep Cuts              25\n",
      "9           14  Classical 101 - Next Steps              25\n",
      "10          15  Classical 101 - The Basics              25\n"
     ]
    }
   ],
   "source": [
    "# Se connecter à la base de données\n",
    "conn = sqlite3.connect('chinook.db')\n",
    "\n",
    "# Exécuter une requête SQL\n",
    "query = \"\"\"SELECT p.PlaylistId, p.Name, COUNT(pt.TrackId) AS NumberOfTracks\n",
    "FROM playlists p\n",
    "JOIN playlist_track pt ON p.PlaylistId = pt.PlaylistId\n",
    "GROUP BY p.PlaylistId, p.Name\n",
    "HAVING NumberOfTracks > 15\n",
    "ORDER BY NumberOfTracks DESC;\"\"\"\n",
    "\n",
    "df = pd.read_sql_query(query, conn)\n",
    "\n",
    "# Afficher les résultats\n",
    "print(df)\n",
    "\n",
    "# Fermer la connexion\n",
    "conn.close()"
   ]
  },
  {
   "cell_type": "markdown",
   "id": "e2463562",
   "metadata": {},
   "source": [
    "## Exercice 6 : \n",
    "    Trouver les 5 artistes les plus prolifiques en termes de nombre de pistes disponibles.\n",
    "\n",
    "*Solution :*"
   ]
  },
  {
   "cell_type": "code",
   "execution_count": 9,
   "id": "7b2962bb",
   "metadata": {},
   "outputs": [
    {
     "name": "stdout",
     "output_type": "stream",
     "text": [
      "     ArtistName  NumberOfTracks\n",
      "0   Iron Maiden             213\n",
      "1            U2             135\n",
      "2  Led Zeppelin             114\n",
      "3     Metallica             112\n",
      "4          Lost              92\n"
     ]
    }
   ],
   "source": [
    "# Se connecter à la base de données\n",
    "conn = sqlite3.connect('chinook.db')\n",
    "\n",
    "# Exécuter une requête SQL\n",
    "query = \"\"\"SELECT ar.Name AS ArtistName, COUNT(t.TrackId) AS NumberOfTracks\n",
    "FROM artists ar\n",
    "JOIN albums al ON ar.ArtistId = al.ArtistId\n",
    "JOIN tracks t ON al.AlbumId = t.AlbumId\n",
    "GROUP BY ar.Name\n",
    "ORDER BY NumberOfTracks DESC\n",
    "LIMIT 5;\"\"\"\n",
    "\n",
    "df = pd.read_sql_query(query, conn)\n",
    "\n",
    "# Afficher les résultats\n",
    "print(df)\n",
    "\n",
    "# Fermer la connexion\n",
    "conn.close()"
   ]
  },
  {
   "cell_type": "markdown",
   "id": "6cca6b4d",
   "metadata": {},
   "source": [
    "## Exercice 7 : \n",
    "    Lister les clients qui ont dépensé plus de 40 dollars en achats, en affichant leur nom complet et le montant total dépensé.\n",
    "\n",
    "*Solution :*"
   ]
  },
  {
   "cell_type": "code",
   "execution_count": 12,
   "id": "991d82b8",
   "metadata": {},
   "outputs": [
    {
     "name": "stdout",
     "output_type": "stream",
     "text": [
      "                 FullName  TotalSpent\n",
      "0             Helena Holý       49.62\n",
      "1      Richard Cunningham       47.62\n",
      "2              Luis Rojas       46.62\n",
      "3         Ladislav Kovács       45.62\n",
      "4           Hugh O'Reilly       45.62\n",
      "5         Fynn Zimmermann       43.62\n",
      "6           Frank Ralston       43.62\n",
      "7           Julia Barnett       43.62\n",
      "8          Victor Stevens       42.62\n",
      "9           Astrid Gruber       42.62\n",
      "10       Terhi Hämäläinen       41.62\n",
      "11  František Wichterlová       40.62\n",
      "12       Isabelle Mercier       40.62\n",
      "13  Johannes Van der Berg       40.62\n"
     ]
    }
   ],
   "source": [
    "# Se connecter à la base de données\n",
    "conn = sqlite3.connect('chinook.db')\n",
    "\n",
    "# Exécuter une requête SQL\n",
    "query = \"\"\"SELECT c.FirstName || ' ' || c.LastName AS FullName, SUM(il.UnitPrice * il.Quantity) AS TotalSpent\n",
    "FROM customers c\n",
    "JOIN invoices i ON c.CustomerId = i.CustomerId\n",
    "JOIN invoice_items il ON i.InvoiceId = il.InvoiceId\n",
    "GROUP BY c.CustomerId\n",
    "HAVING TotalSpent > 40\n",
    "ORDER BY TotalSpent DESC;\"\"\"\n",
    "\n",
    "df = pd.read_sql_query(query, conn)\n",
    "\n",
    "# Afficher les résultats\n",
    "print(df)\n",
    "\n",
    "# Fermer la connexion\n",
    "conn.close()"
   ]
  },
  {
   "cell_type": "markdown",
   "id": "30f2e2f6",
   "metadata": {},
   "source": [
    "## Exercice 8 : \n",
    "    Identifier les employés qui supervisent au moins deux autres employés, en affichant leur nom complet et le nombre de subordonnés.\n",
    "\n",
    "*Solution :*"
   ]
  },
  {
   "cell_type": "code",
   "execution_count": 13,
   "id": "d289b38e",
   "metadata": {},
   "outputs": [
    {
     "name": "stdout",
     "output_type": "stream",
     "text": [
      "        ManagerName  NumberOfSubordinates\n",
      "0     Nancy Edwards                     3\n",
      "1      Andrew Adams                     2\n",
      "2  Michael Mitchell                     2\n"
     ]
    }
   ],
   "source": [
    "# Se connecter à la base de données\n",
    "conn = sqlite3.connect('chinook.db')\n",
    "\n",
    "# Exécuter une requête SQL\n",
    "query = \"\"\"SELECT e.FirstName || ' ' || e.LastName AS ManagerName, COUNT(sub.EmployeeId) AS NumberOfSubordinates\n",
    "FROM employees e\n",
    "JOIN employees sub ON e.EmployeeId = sub.ReportsTo\n",
    "GROUP BY e.EmployeeId\n",
    "HAVING NumberOfSubordinates >= 2\n",
    "ORDER BY NumberOfSubordinates DESC;\"\"\"\n",
    "\n",
    "df = pd.read_sql_query(query, conn)\n",
    "\n",
    "# Afficher les résultats\n",
    "print(df)\n",
    "\n",
    "# Fermer la connexion\n",
    "conn.close()"
   ]
  },
  {
   "cell_type": "markdown",
   "id": "18c5271f",
   "metadata": {},
   "source": [
    "## Exercice 9 : \n",
    "    Trouver les genres musicaux qui n'ont jamais été achetés par aucun client.\n",
    "\n",
    "*Solution :*"
   ]
  },
  {
   "cell_type": "code",
   "execution_count": 17,
   "id": "9ef9640e",
   "metadata": {},
   "outputs": [
    {
     "name": "stdout",
     "output_type": "stream",
     "text": [
      "  GenreName\n",
      "0     Opera\n"
     ]
    }
   ],
   "source": [
    "# Se connecter à la base de données\n",
    "conn = sqlite3.connect('chinook.db')\n",
    "\n",
    "# Exécuter une requête SQL\n",
    "query = \"\"\"SELECT g.Name AS GenreName\n",
    "FROM genres g\n",
    "WHERE g.GenreId NOT IN (\n",
    "    SELECT DISTINCT t.GenreId\n",
    "    FROM tracks t\n",
    "    JOIN invoice_items il ON t.TrackId = il.TrackId\n",
    ");\"\"\"\n",
    "\n",
    "df = pd.read_sql_query(query, conn)\n",
    "\n",
    "# Afficher les résultats\n",
    "print(df)\n",
    "\n",
    "# Fermer la connexion\n",
    "conn.close()"
   ]
  },
  {
   "cell_type": "markdown",
   "id": "df04731a",
   "metadata": {},
   "source": [
    "## Exercice 10 : \n",
    "    Calculer le revenu total généré par chaque pays, en affichant le nom du pays et le montant total des ventes, triés par ordre décroissant de revenus.\n",
    "\n",
    "*Solution :*"
   ]
  },
  {
   "cell_type": "code",
   "execution_count": 18,
   "id": "d62fcc81",
   "metadata": {},
   "outputs": [
    {
     "name": "stdout",
     "output_type": "stream",
     "text": [
      "           Country  TotalRevenue\n",
      "0              USA        523.06\n",
      "1           Canada        303.96\n",
      "2           France        195.10\n",
      "3           Brazil        190.10\n",
      "4          Germany        156.48\n",
      "5   United Kingdom        112.86\n",
      "6   Czech Republic         90.24\n",
      "7         Portugal         77.24\n",
      "8            India         75.26\n",
      "9            Chile         46.62\n",
      "10         Ireland         45.62\n",
      "11         Hungary         45.62\n",
      "12         Austria         42.62\n",
      "13         Finland         41.62\n",
      "14     Netherlands         40.62\n",
      "15          Norway         39.62\n",
      "16          Sweden         38.62\n",
      "17           Spain         37.62\n",
      "18          Poland         37.62\n",
      "19           Italy         37.62\n",
      "20         Denmark         37.62\n",
      "21         Belgium         37.62\n",
      "22       Australia         37.62\n",
      "23       Argentina         37.62\n"
     ]
    }
   ],
   "source": [
    "# Se connecter à la base de données\n",
    "conn = sqlite3.connect('chinook.db')\n",
    "\n",
    "# Exécuter une requête SQL\n",
    "query = \"\"\"SELECT c.Country, SUM(il.UnitPrice * il.Quantity) AS TotalRevenue\n",
    "FROM customers c\n",
    "JOIN invoices i ON c.CustomerId = i.CustomerId\n",
    "JOIN invoice_items il ON i.InvoiceId = il.InvoiceId\n",
    "GROUP BY c.Country\n",
    "ORDER BY TotalRevenue DESC;\"\"\"\n",
    "\n",
    "df = pd.read_sql_query(query, conn)\n",
    "\n",
    "# Afficher les résultats\n",
    "print(df)\n",
    "\n",
    "# Fermer la connexion\n",
    "conn.close()"
   ]
  },
  {
   "cell_type": "markdown",
   "id": "fab9dc92",
   "metadata": {},
   "source": [
    "# Test Python"
   ]
  },
  {
   "cell_type": "markdown",
   "id": "0ff977a3",
   "metadata": {},
   "source": [
    "## Reverse Polish Notation (RPN) calculator"
   ]
  },
  {
   "cell_type": "code",
   "execution_count": 19,
   "id": "c12e59ef",
   "metadata": {},
   "outputs": [
    {
     "name": "stdout",
     "output_type": "stream",
     "text": [
      "Result: 2.0\n"
     ]
    }
   ],
   "source": [
    "from typing import List, Union, Callable, Dict\n",
    "\n",
    "# Define the type for operands which can be either int or float\n",
    "Operand = Union[int, float]\n",
    "\n",
    "# Define the type for the stack which is a list of operands\n",
    "Stack = List[Operand]\n",
    "\n",
    "# Define the type for operator functions\n",
    "OperatorFunction = Callable[[Operand, Operand], Operand]\n",
    "\n",
    "# Dictionary mapping supported operators to their corresponding functions\n",
    "OPERATORS: Dict[str, OperatorFunction] = {\n",
    "    '+': lambda a, b: a + b,\n",
    "    '-': lambda a, b: a - b,\n",
    "    '*': lambda a, b: a * b,\n",
    "    '/': lambda a, b: a / b if b != 0 else float('inf'),  # Handle division by zero\n",
    "}\n",
    "\n",
    "def evaluate_rpn(expression: str) -> Operand:\n",
    "    \"\"\"\n",
    "    Evaluate a Reverse Polish Notation expression.\n",
    "\n",
    "    Args:\n",
    "        expression (str): The RPN expression as a space-separated string.\n",
    "\n",
    "    Returns:\n",
    "        Operand: The result of the evaluation.\n",
    "\n",
    "    Raises:\n",
    "        ValueError: If the expression is invalid or contains unsupported operators.\n",
    "    \"\"\"\n",
    "    stack: Stack = []\n",
    "\n",
    "    # Split the expression into tokens based on whitespace\n",
    "    tokens = expression.split()\n",
    "\n",
    "    for token in tokens:\n",
    "        if token in OPERATORS:\n",
    "            # Ensure there are at least two operands on the stack for the operation\n",
    "            if len(stack) < 2:\n",
    "                raise ValueError(f\"Insufficient operands for operator '{token}'\")\n",
    "            # Pop the two topmost operands; b is popped first because it's the second operand\n",
    "            b = stack.pop()\n",
    "            a = stack.pop()\n",
    "            # Perform the operation and push the result back onto the stack\n",
    "            result = OPERATORS[token](a, b)\n",
    "            stack.append(result)\n",
    "        else:\n",
    "            try:\n",
    "                # Attempt to convert the token to a float and push onto the stack\n",
    "                operand = float(token)\n",
    "                stack.append(operand)\n",
    "            except ValueError:\n",
    "                # Raise an error if the token is neither an operator nor a valid number\n",
    "                raise ValueError(f\"Invalid token '{token}' encountered\")\n",
    "\n",
    "    # After processing all tokens, there should be exactly one operand left on the stack\n",
    "    if len(stack) != 1:\n",
    "        raise ValueError(\"The expression is invalid or incomplete\")\n",
    "\n",
    "    return stack[0]\n",
    "\n",
    "# Example usage:\n",
    "if __name__ == \"__main__\":\n",
    "    rpn_expression = \"3 4 + 2 * 7 /\"\n",
    "    try:\n",
    "        result = evaluate_rpn(rpn_expression)\n",
    "        print(f\"Result: {result}\")\n",
    "    except ValueError as e:\n",
    "        print(f\"Error: {e}\")\n"
   ]
  },
  {
   "cell_type": "markdown",
   "id": "62224a21",
   "metadata": {},
   "source": [
    "## Is prime number"
   ]
  },
  {
   "cell_type": "code",
   "execution_count": 20,
   "id": "04fc6a0a",
   "metadata": {},
   "outputs": [
    {
     "name": "stdout",
     "output_type": "stream",
     "text": [
      "29 is a prime number.\n"
     ]
    }
   ],
   "source": [
    "import math\n",
    "\n",
    "def is_prime(n: int) -> bool:\n",
    "    \"\"\"\n",
    "    Determine if a number is prime.\n",
    "\n",
    "    Args:\n",
    "        n (int): The number to check.\n",
    "\n",
    "    Returns:\n",
    "        bool: True if n is prime, False otherwise.\n",
    "    \"\"\"\n",
    "    # Handle edge cases: numbers less than 2 are not prime\n",
    "    if n < 2:\n",
    "        return False\n",
    "\n",
    "    # Check for factors from 2 up to the square root of n\n",
    "    for i in range(2, int(math.isqrt(n)) + 1):\n",
    "        if n % i == 0:\n",
    "            return False\n",
    "\n",
    "    return True\n",
    "\n",
    "# Example usage:\n",
    "if __name__ == \"__main__\":\n",
    "    number = 29\n",
    "    if is_prime(number):\n",
    "        print(f\"{number} is a prime number.\")\n",
    "    else:\n",
    "        print(f\"{number} is not a prime number.\")\n"
   ]
  },
  {
   "cell_type": "markdown",
   "id": "1fb27446",
   "metadata": {},
   "source": [
    "## Strength of a password using regular expressions"
   ]
  },
  {
   "cell_type": "code",
   "execution_count": 21,
   "id": "3706c513",
   "metadata": {},
   "outputs": [
    {
     "name": "stdout",
     "output_type": "stream",
     "text": [
      "'WeakPass1' is not a strong password.\n",
      "'StrongPass1!' is a strong password.\n",
      "'short1!' is not a strong password.\n",
      "'NoSpecialChar1' is not a strong password.\n",
      "'ValidPass123@' is a strong password.\n"
     ]
    }
   ],
   "source": [
    "import re\n",
    "\n",
    "def is_strong_password(password: str) -> bool:\n",
    "    \"\"\"\n",
    "    Determine if a password is strong based on specific criteria.\n",
    "\n",
    "    A strong password must:\n",
    "    - Be at least 8 characters long\n",
    "    - Contain at least one uppercase letter\n",
    "    - Contain at least one lowercase letter\n",
    "    - Contain at least one digit\n",
    "    - Contain at least one special character from [@#$%^&+=!]\n",
    "\n",
    "    Args:\n",
    "        password (str): The password to evaluate.\n",
    "\n",
    "    Returns:\n",
    "        bool: True if the password is strong, False otherwise.\n",
    "    \"\"\"\n",
    "    # Define the regex pattern for a strong password\n",
    "    pattern = re.compile(\n",
    "        r\"\"\"\n",
    "        ^                   # Start of string\n",
    "        (?=.*[a-z])         # At least one lowercase letter\n",
    "        (?=.*[A-Z])         # At least one uppercase letter\n",
    "        (?=.*\\d)            # At least one digit\n",
    "        (?=.*[@#$%^&+=!])   # At least one special character\n",
    "        .{8,}               # Minimum length of 8 characters\n",
    "        $                   # End of string\n",
    "        \"\"\",\n",
    "        re.VERBOSE           # Allow verbose regex for better readability\n",
    "    )\n",
    "\n",
    "    # Use the fullmatch method to ensure the entire password matches the pattern\n",
    "    return bool(pattern.fullmatch(password))\n",
    "\n",
    "# Example usage:\n",
    "if __name__ == \"__main__\":\n",
    "    test_passwords = [\n",
    "        \"WeakPass1\",\n",
    "        \"StrongPass1!\",\n",
    "        \"short1!\",\n",
    "        \"NoSpecialChar1\",\n",
    "        \"ValidPass123@\"\n",
    "    ]\n",
    "\n",
    "    for pwd in test_passwords:\n",
    "        if is_strong_password(pwd):\n",
    "            print(f\"'{pwd}' is a strong password.\")\n",
    "        else:\n",
    "            print(f\"'{pwd}' is not a strong password.\")\n"
   ]
  },
  {
   "cell_type": "markdown",
   "id": "7d82df2e",
   "metadata": {},
   "source": [
    "## Vérifier si une chaîne est un palindrome en ignorant la casse et les espaces"
   ]
  },
  {
   "cell_type": "code",
   "execution_count": 25,
   "id": "5911f3a1",
   "metadata": {},
   "outputs": [],
   "source": [
    "import re\n",
    "\n",
    "def is_palindrome(s: str) -> bool:\n",
    "    \"\"\"\n",
    "    Check if a given string is a palindrome, ignoring spaces, punctuation, and case.\n",
    "\n",
    "    Args:\n",
    "        s (str): Input string.\n",
    "\n",
    "    Returns:\n",
    "        bool: True if the string is a palindrome, False otherwise.\n",
    "    \"\"\"\n",
    "    # Remove non-alphanumeric characters and convert to lowercase\n",
    "    cleaned = re.sub(r'[^A-Za-z0-9]', '', s).lower()\n",
    "    # Compare the cleaned string with its reverse\n",
    "    return cleaned == cleaned[::-1]\n"
   ]
  },
  {
   "cell_type": "code",
   "execution_count": 32,
   "id": "5265c8a1",
   "metadata": {},
   "outputs": [
    {
     "data": {
      "text/plain": [
       "True"
      ]
     },
     "execution_count": 32,
     "metadata": {},
     "output_type": "execute_result"
    }
   ],
   "source": [
    "is_palindrome(\"A man a plan a canal Panama\")"
   ]
  },
  {
   "cell_type": "markdown",
   "id": "30a684d2",
   "metadata": {},
   "source": [
    "## Trouver la sous-chaîne la plus longue sans caractères répétés"
   ]
  },
  {
   "cell_type": "code",
   "execution_count": null,
   "id": "18a98759",
   "metadata": {},
   "outputs": [],
   "source": [
    "def longest_unique_substring(s: str) -> str:\n",
    "    \"\"\"\n",
    "    Find the longest substring without repeating characters.\n",
    "\n",
    "    Args:\n",
    "        s (str): Input string.\n",
    "\n",
    "    Returns:\n",
    "        str: Longest substring without repeating characters.\n",
    "    \"\"\"\n",
    "    start = 0\n",
    "    max_length = 0\n",
    "    max_substr = \"\"\n",
    "    used_chars = {}\n",
    "\n",
    "    for i, char in enumerate(s):\n",
    "        if char in used_chars and start <= used_chars[char]:\n",
    "            start = used_chars[char] + 1\n",
    "        else:\n",
    "            if i - start + 1 > max_length:\n",
    "                max_length = i - start + 1\n",
    "                max_substr = s[start:i + 1]\n",
    "        used_chars[char] = i\n",
    "\n",
    "    return max_substr\n"
   ]
  },
  {
   "cell_type": "code",
   "execution_count": 33,
   "id": "2947adba",
   "metadata": {},
   "outputs": [
    {
     "data": {
      "text/plain": [
       "'wke'"
      ]
     },
     "execution_count": 33,
     "metadata": {},
     "output_type": "execute_result"
    }
   ],
   "source": [
    "longest_unique_substring(\"pwwkew\")"
   ]
  },
  {
   "cell_type": "markdown",
   "id": "ed3528cd",
   "metadata": {},
   "source": [
    "## Set partitions problem\n",
    "Étant donné un ensemble d'entiers positifs, écrivez une fonction Python qui détermine s'il est possible de partitionner cet ensemble en deux sous-ensembles de sommes égales. Si une telle partition est possible, la fonction doit retourner les deux sous-ensembles. Sinon, elle doit indiquer qu'une telle partition n'est pas possible."
   ]
  },
  {
   "cell_type": "code",
   "execution_count": 1,
   "id": "7bd4dc6f",
   "metadata": {},
   "outputs": [
    {
     "name": "stdout",
     "output_type": "stream",
     "text": [
      "Partition possible.\n",
      "Sous-ensemble 1 : [9, 5, 1]\n",
      "Sous-ensemble 2 : [3, 12]\n"
     ]
    }
   ],
   "source": [
    "def can_partition(nums):\n",
    "    \"\"\"\n",
    "    Détermine si un ensemble peut être partitionné en deux sous-ensembles de sommes égales.\n",
    "    Si possible, retourne les deux sous-ensembles. Sinon, indique que la partition n'est pas possible.\n",
    "    \"\"\"\n",
    "    total_sum = sum(nums)\n",
    "    \n",
    "    # Si la somme totale est impaire, une partition égale est impossible\n",
    "    if total_sum % 2 != 0:\n",
    "        return False, None, None\n",
    "    \n",
    "    target = total_sum // 2\n",
    "    n = len(nums)\n",
    "    \n",
    "    # Initialisation de la table DP\n",
    "    dp = [[False] * (target + 1) for _ in range(n + 1)]\n",
    "    \n",
    "    # Il est toujours possible de former la somme 0 avec 0 éléments\n",
    "    for i in range(n + 1):\n",
    "        dp[i][0] = True\n",
    "    \n",
    "    # Remplissage de la table DP\n",
    "    for i in range(1, n + 1):\n",
    "        for j in range(1, target + 1):\n",
    "            if nums[i - 1] > j:\n",
    "                dp[i][j] = dp[i - 1][j]\n",
    "            else:\n",
    "                dp[i][j] = dp[i - 1][j] or dp[i - 1][j - nums[i - 1]]\n",
    "    \n",
    "    # Si la somme cible n'est pas atteignable, retourner False\n",
    "    if not dp[n][target]:\n",
    "        return False, None, None\n",
    "    \n",
    "    # Reconstruction des sous-ensembles\n",
    "    subset1 = []\n",
    "    subset2 = nums.copy()\n",
    "    i, j = n, target\n",
    "    \n",
    "    while i > 0 and j > 0:\n",
    "        if dp[i][j] and not dp[i - 1][j]:\n",
    "            subset1.append(nums[i - 1])\n",
    "            subset2.remove(nums[i - 1])\n",
    "            j -= nums[i - 1]\n",
    "        i -= 1\n",
    "    \n",
    "    return True, subset1, subset2\n",
    "\n",
    "# Exemple d'utilisation\n",
    "nums = [3, 1, 5, 9, 12]\n",
    "possible, subset1, subset2 = can_partition(nums)\n",
    "\n",
    "if possible:\n",
    "    print(\"Partition possible.\")\n",
    "    print(\"Sous-ensemble 1 :\", subset1)\n",
    "    print(\"Sous-ensemble 2 :\", subset2)\n",
    "else:\n",
    "    print(\"Partition non possible.\")"
   ]
  }
 ],
 "metadata": {
  "kernelspec": {
   "display_name": "Python 3 (ipykernel)",
   "language": "python",
   "name": "python3"
  },
  "language_info": {
   "codemirror_mode": {
    "name": "ipython",
    "version": 3
   },
   "file_extension": ".py",
   "mimetype": "text/x-python",
   "name": "python",
   "nbconvert_exporter": "python",
   "pygments_lexer": "ipython3",
   "version": "3.8.18"
  }
 },
 "nbformat": 4,
 "nbformat_minor": 5
}
